{
 "metadata": {
  "name": "",
  "signature": "sha256:d9e4244f8ac5a77424a40523afbc60f569d438c124fe158dbcb734573a715564"
 },
 "nbformat": 3,
 "nbformat_minor": 0,
 "worksheets": [
  {
   "cells": [
    {
     "cell_type": "markdown",
     "metadata": {},
     "source": [
      "#Notes:"
     ]
    },
    {
     "cell_type": "raw",
     "metadata": {},
     "source": [
      "Economic data parameters: Daily; January 1, 1995 - January 1, 2015"
     ]
    },
    {
     "cell_type": "raw",
     "metadata": {},
     "source": [
      "GDP = C + I + G + (Ex - Im)\n",
      "\n",
      "Consumer Spending\n",
      "Private Investment Spending\n",
      "Goverment Spending\n",
      "Exports\n",
      "Imports"
     ]
    },
    {
     "cell_type": "raw",
     "metadata": {},
     "source": [
      "Variables:\n",
      "\n",
      "[]Real GDP\n",
      "[]Unemployment Rates\n",
      "[]Labor Force Participation Rates\n",
      "[]Real Consumer Price Index\n",
      "[]Savings Rates\n",
      "[]Consumption Rates\n",
      "[]Money Supply: M2\n",
      "[]Stock Indices: S&P 500"
     ]
    },
    {
     "cell_type": "raw",
     "metadata": {},
     "source": [
      "Regression:\n",
      "\n",
      "Create master database of all indicators, then test sentiment against different KPIs, then ultimately RGDP\n",
      "    --Adjust wordbank values accordingly\n",
      "    -*Implement n-gram functionality"
     ]
    },
    {
     "cell_type": "markdown",
     "metadata": {},
     "source": [
      "#Working with FRED API"
     ]
    },
    {
     "cell_type": "markdown",
     "metadata": {},
     "source": [
      "Homepage: https://research.stlouisfed.org/fred2/"
     ]
    },
    {
     "cell_type": "markdown",
     "metadata": {},
     "source": [
      "---"
     ]
    },
    {
     "cell_type": "markdown",
     "metadata": {},
     "source": [
      "FREDAPI: 7eee19b6a445323da657af5a8f8fe297"
     ]
    },
    {
     "cell_type": "code",
     "collapsed": false,
     "input": [
      "from fredapi import Fred"
     ],
     "language": "python",
     "metadata": {},
     "outputs": [],
     "prompt_number": 1
    },
    {
     "cell_type": "code",
     "collapsed": false,
     "input": [
      "fred = Fred(api_key='7eee19b6a445323da657af5a8f8fe297')"
     ],
     "language": "python",
     "metadata": {},
     "outputs": []
    },
    {
     "cell_type": "code",
     "collapsed": false,
     "input": [
      "#Consumer Price Index for All Urban Consumers: All Items\n",
      "CPI = fred.get_series('CPIAUCSL') \n",
      "\n",
      "#Purchasing Power Parity Converted GDP Per Capita (Chain Series) for United States, 2005 International Dollars per Person\n",
      "PPP = fred.get_series('RGDPCHUSA625NUPN')\n",
      "\n",
      "#Velocity of M2 Money Stock, Ratio\n",
      "M2V = fred.get_series('M2V')\n"
     ],
     "language": "python",
     "metadata": {},
     "outputs": [],
     "prompt_number": 13
    },
    {
     "cell_type": "code",
     "collapsed": false,
     "input": [
      "#fred.get_series_info('M2V') #returns series info in a series\n",
      "fred.search('M2V') #returns series info in a dataframe, use to append, aggregate all series data"
     ],
     "language": "python",
     "metadata": {},
     "outputs": [
      {
       "html": [
        "<div style=\"max-height:1000px;max-width:1500px;overflow:auto;\">\n",
        "<table border=\"1\" class=\"dataframe\">\n",
        "  <thead>\n",
        "    <tr style=\"text-align: right;\">\n",
        "      <th></th>\n",
        "      <th>frequency</th>\n",
        "      <th>frequency_short</th>\n",
        "      <th>id</th>\n",
        "      <th>last_updated</th>\n",
        "      <th>notes</th>\n",
        "      <th>observation_end</th>\n",
        "      <th>observation_start</th>\n",
        "      <th>popularity</th>\n",
        "      <th>realtime_end</th>\n",
        "      <th>realtime_start</th>\n",
        "      <th>seasonal_adjustment</th>\n",
        "      <th>seasonal_adjustment_short</th>\n",
        "      <th>title</th>\n",
        "      <th>units</th>\n",
        "      <th>units_short</th>\n",
        "    </tr>\n",
        "    <tr>\n",
        "      <th>series id</th>\n",
        "      <th></th>\n",
        "      <th></th>\n",
        "      <th></th>\n",
        "      <th></th>\n",
        "      <th></th>\n",
        "      <th></th>\n",
        "      <th></th>\n",
        "      <th></th>\n",
        "      <th></th>\n",
        "      <th></th>\n",
        "      <th></th>\n",
        "      <th></th>\n",
        "      <th></th>\n",
        "      <th></th>\n",
        "      <th></th>\n",
        "    </tr>\n",
        "  </thead>\n",
        "  <tbody>\n",
        "    <tr>\n",
        "      <th>M2V</th>\n",
        "      <td> Quarterly</td>\n",
        "      <td> Q</td>\n",
        "      <td> M2V</td>\n",
        "      <td> 2015-01-30 11:46:02-06:00</td>\n",
        "      <td> Calculated as the ratio of quarterly nominal G...</td>\n",
        "      <td>2014-10-01</td>\n",
        "      <td>1959-01-01</td>\n",
        "      <td> 86</td>\n",
        "      <td>2015-02-22</td>\n",
        "      <td>2015-02-22</td>\n",
        "      <td> Seasonally Adjusted</td>\n",
        "      <td> SA</td>\n",
        "      <td> Velocity of M2 Money Stock</td>\n",
        "      <td> Ratio</td>\n",
        "      <td> Ratio</td>\n",
        "    </tr>\n",
        "  </tbody>\n",
        "</table>\n",
        "</div>"
       ],
       "metadata": {},
       "output_type": "pyout",
       "prompt_number": 48,
       "text": [
        "           frequency frequency_short   id               last_updated  \\\n",
        "series id                                                              \n",
        "M2V        Quarterly               Q  M2V  2015-01-30 11:46:02-06:00   \n",
        "\n",
        "                                                       notes observation_end  \\\n",
        "series id                                                                      \n",
        "M2V        Calculated as the ratio of quarterly nominal G...      2014-10-01   \n",
        "\n",
        "          observation_start popularity realtime_end realtime_start  \\\n",
        "series id                                                            \n",
        "M2V              1959-01-01         86   2015-02-22     2015-02-22   \n",
        "\n",
        "           seasonal_adjustment seasonal_adjustment_short  \\\n",
        "series id                                                  \n",
        "M2V        Seasonally Adjusted                        SA   \n",
        "\n",
        "                                title  units units_short  \n",
        "series id                                                 \n",
        "M2V        Velocity of M2 Money Stock  Ratio       Ratio  "
       ]
      }
     ],
     "prompt_number": 48
    },
    {
     "cell_type": "code",
     "collapsed": false,
     "input": [
      "CPI.plot()"
     ],
     "language": "python",
     "metadata": {},
     "outputs": [
      {
       "metadata": {},
       "output_type": "pyout",
       "prompt_number": 59,
       "text": [
        "<matplotlib.axes._subplots.AxesSubplot at 0xe791240>"
       ]
      },
      {
       "metadata": {},
       "output_type": "display_data",
       "png": "[encoded data removed]",
       "text": [
        "<matplotlib.figure.Figure at 0xd129048>"
       ]
      }
     ],
     "prompt_number": 59
    },
    {
     "cell_type": "code",
     "collapsed": false,
     "input": [
      "PPP.plot()"
     ],
     "language": "python",
     "metadata": {},
     "outputs": [
      {
       "metadata": {},
       "output_type": "pyout",
       "prompt_number": 60,
       "text": [
        "<matplotlib.axes._subplots.AxesSubplot at 0xe99e4e0>"
       ]
      },
      {
       "metadata": {},
       "output_type": "display_data",
       "png": "[encoded data removed]",
       "text": [
        "<matplotlib.figure.Figure at 0xe9ac940>"
       ]
      }
     ],
     "prompt_number": 60
    },
    {
     "cell_type": "code",
     "collapsed": false,
     "input": [],
     "language": "python",
     "metadata": {},
     "outputs": [
      {
       "metadata": {},
       "output_type": "pyout",
       "prompt_number": 63,
       "text": [
        "<matplotlib.axes._subplots.AxesSubplot at 0xe54d320>"
       ]
      },
      {
       "metadata": {},
       "output_type": "display_data",
       "png": "[encoded data removed]",
       "text": [
        "<matplotlib.figure.Figure at 0xd639828>"
       ]
      }
     ],
     "prompt_number": 63
    },
    {
     "cell_type": "code",
     "collapsed": false,
     "input": [],
     "language": "python",
     "metadata": {},
     "outputs": []
    }
   ],
   "metadata": {}
  }
 ]
}
