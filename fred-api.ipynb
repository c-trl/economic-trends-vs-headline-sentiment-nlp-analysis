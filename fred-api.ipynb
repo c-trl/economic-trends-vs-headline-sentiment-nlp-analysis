{
 "metadata": {
  "name": "",
  "signature": "sha256:0818ae3ac3d3cc519b5b076e470c1be25da0ff29c9614117c05ec2a5e96af6cd"
 },
 "nbformat": 3,
 "nbformat_minor": 0,
 "worksheets": [
  {
   "cells": [
    {
     "cell_type": "markdown",
     "metadata": {},
     "source": [
      "#Notes:"
     ]
    },
    {
     "cell_type": "raw",
     "metadata": {},
     "source": [
      "Economic data parameters: Daily; January 1, 1995 - January 1, 2015"
     ]
    },
    {
     "cell_type": "raw",
     "metadata": {},
     "source": [
      "GDP = C + I + G + (Ex - Im)\n",
      "\n",
      "Consumer Spending\n",
      "Private Investment Spending\n",
      "Goverment Spending\n",
      "Exports\n",
      "Imports"
     ]
    },
    {
     "cell_type": "raw",
     "metadata": {},
     "source": [
      "Variables:\n",
      "\n",
      "[x]Real GDP\n",
      "[x]Unemployment Rates\n",
      "[x]Labor Force Participation Rates\n",
      "[x]Real Consumer Price Index\n",
      "[]Savings Rates\n",
      "[]Consumption Rates\n",
      "[]Money Supply: M2\n",
      "[]Stock Indices: S&P 500"
     ]
    },
    {
     "cell_type": "raw",
     "metadata": {},
     "source": [
      "Regression:\n",
      "\n",
      "Create master database of all indicators, then test sentiment against different KPIs, then ultimately RGDP\n",
      "    --Adjust wordbank values accordingly\n",
      "    -*Implement n-gram functionality"
     ]
    },
    {
     "cell_type": "markdown",
     "metadata": {},
     "source": [
      "#Working with FRED API"
     ]
    },
    {
     "cell_type": "markdown",
     "metadata": {},
     "source": [
      "Homepage: https://research.stlouisfed.org/fred2/"
     ]
    },
    {
     "cell_type": "markdown",
     "metadata": {},
     "source": [
      "---"
     ]
    },
    {
     "cell_type": "markdown",
     "metadata": {},
     "source": [
      "FREDAPI: 7eee19b6a445323da657af5a8f8fe297"
     ]
    },
    {
     "cell_type": "code",
     "collapsed": false,
     "input": [
      "from fredapi import Fred"
     ],
     "language": "python",
     "metadata": {},
     "outputs": [],
     "prompt_number": 1
    },
    {
     "cell_type": "code",
     "collapsed": false,
     "input": [
      "fred = Fred(api_key='7eee19b6a445323da657af5a8f8fe297')"
     ],
     "language": "python",
     "metadata": {},
     "outputs": []
    },
    {
     "cell_type": "code",
     "collapsed": false,
     "input": [
      "get = fred.get_series\n",
      "summary = fred.get_series_info\n",
      "describe = fred.search\n",
      "\n",
      "#fred.get_series_info('M2V') #returns series info in a series\n",
      "#fred.search('M2V') #returns series info in a dataframe, use to append, aggregate all series data"
     ],
     "language": "python",
     "metadata": {},
     "outputs": [],
     "prompt_number": 86
    },
    {
     "cell_type": "code",
     "collapsed": false,
     "input": [
      "GDP = 'GDPC96' #real gdp\n",
      "UNE = 'UNRATE' #unemployment rate\n",
      "LFP = 'CIVPART' #civilian labor force participation rate\n",
      "CPI = 'CPIAUCSL' #consumer price index\n",
      "PSR = 'PSAVERT'\n",
      "PPP = 'RGDPCHUSA625NUPN' #purchasing power parity\n",
      "M2V = 'M2V' #M2 velocity\n",
      "DLQ = 'DRSFRMACBS' #mortgage deliquency rates\n",
      "IVS = 'ISRATIO' #business inventory to sales ratio\n",
      "UNC = 'USEPUINDXD' #economic policy uncertainty\n",
      "FFR = 'FEDFUNDS' #federal funds rate\n",
      "PCE = 'PCEPI' #personal consumption expenditure price index"
     ],
     "language": "python",
     "metadata": {},
     "outputs": [],
     "prompt_number": 87
    },
    {
     "cell_type": "code",
     "collapsed": false,
     "input": [
      "g(PCE).plot()"
     ],
     "language": "python",
     "metadata": {},
     "outputs": [
      {
       "metadata": {},
       "output_type": "pyout",
       "prompt_number": 88,
       "text": [
        "<matplotlib.axes._subplots.AxesSubplot at 0xfa2f208>"
       ]
      },
      {
       "metadata": {},
       "output_type": "display_data",
       "png": "[encoded data removed]",
       "text": [
        "<matplotlib.figure.Figure at 0x10bb74e0>"
       ]
      }
     ],
     "prompt_number": 88
    },
    {
     "cell_type": "code",
     "collapsed": false,
     "input": [],
     "language": "python",
     "metadata": {},
     "outputs": []
    }
   ],
   "metadata": {}
  }
 ]
}
