{
 "metadata": {
  "name": "",
  "signature": "sha256:d6c603b22a130223921d9167173359001aad85b8c1a9964157de5042398e0de6"
 },
 "nbformat": 3,
 "nbformat_minor": 0,
 "worksheets": [
  {
   "cells": [
    {
     "cell_type": "markdown",
     "metadata": {},
     "source": [
      "###Potential Newspaper Archives:\n",
      "Wall Street Journal (http://betaweb.dowjones.com/api/#headlines)  \n",
      "The Washington Post (http://apiportal.washingtonpost.com/)  \n",
      "The New York Times (http://developer.nytimes.com/docs/read/article_search_api_v2)  \n",
      "USA Today (http://developer.usatoday.com/docs/read/USATODAY_Articles_Service)  "
     ]
    },
    {
     "cell_type": "markdown",
     "metadata": {},
     "source": [
      "###Network Sites:\n",
      "CNN http://www.cnn.com/services/rss/  \n",
      "AP (http://www.programmableweb.com/api/associated-press)"
     ]
    },
    {
     "cell_type": "code",
     "collapsed": false,
     "input": [
      "import requests"
     ],
     "language": "python",
     "metadata": {},
     "outputs": [],
     "prompt_number": 1
    },
    {
     "cell_type": "code",
     "collapsed": false,
     "input": [
      "r = requests.get"
     ],
     "language": "python",
     "metadata": {},
     "outputs": [],
     "prompt_number": 7
    },
    {
     "cell_type": "code",
     "collapsed": false,
     "input": [
      "r('http://betawebapi.dowjones.com/fintech/articles/api/v1/source/424/?count=20')"
     ],
     "language": "python",
     "metadata": {},
     "outputs": [
      {
       "metadata": {},
       "output_type": "pyout",
       "prompt_number": 3,
       "text": [
        "<Response [503]>"
       ]
      }
     ],
     "prompt_number": 3
    },
    {
     "cell_type": "code",
     "collapsed": false,
     "input": [
      "r('http://www.wsj.com/public/page/archive-2010-1-1.html')"
     ],
     "language": "python",
     "metadata": {},
     "outputs": [
      {
       "metadata": {},
       "output_type": "pyout",
       "prompt_number": 5,
       "text": [
        "<Response [200]>"
       ]
      }
     ],
     "prompt_number": 5
    },
    {
     "cell_type": "code",
     "collapsed": false,
     "input": [
      "x = '2010-1-1'"
     ],
     "language": "python",
     "metadata": {},
     "outputs": [],
     "prompt_number": 8
    },
    {
     "cell_type": "code",
     "collapsed": false,
     "input": [
      "print 'http://www.wsj.com/public/page/archive-'+x+'.html'"
     ],
     "language": "python",
     "metadata": {},
     "outputs": [
      {
       "output_type": "stream",
       "stream": "stdout",
       "text": [
        "http://www.wsj.com/public/page/archive-2010-1-1.html\n"
       ]
      }
     ],
     "prompt_number": 10
    },
    {
     "cell_type": "code",
     "collapsed": false,
     "input": [
      "#Archive date range: 2010-1-1 - 2015-2-24"
     ],
     "language": "python",
     "metadata": {},
     "outputs": [],
     "prompt_number": 11
    },
    {
     "cell_type": "code",
     "collapsed": false,
     "input": [
      "from datetime import date, timedelta as td"
     ],
     "language": "python",
     "metadata": {},
     "outputs": [],
     "prompt_number": 43
    },
    {
     "cell_type": "code",
     "collapsed": false,
     "input": [
      "d1 = date(2010, 1, 1)\n",
      "d2 = date(2015, 2, 24)\n",
      "\n",
      "delta = d2 - d1"
     ],
     "language": "python",
     "metadata": {},
     "outputs": []
    },
    {
     "cell_type": "code",
     "collapsed": false,
     "input": [
      "dates = [str(d1 + td(days=i)) for i in range(delta.days +1)]"
     ],
     "language": "python",
     "metadata": {},
     "outputs": [],
     "prompt_number": 49
    },
    {
     "cell_type": "code",
     "collapsed": false,
     "input": [
      "archive = ['http://www.wsj.com/public/page/archive-'+date+'.html' for date in dates]    "
     ],
     "language": "python",
     "metadata": {},
     "outputs": [],
     "prompt_number": 36
    },
    {
     "cell_type": "code",
     "collapsed": false,
     "input": [
      "archive[:2]"
     ],
     "language": "python",
     "metadata": {},
     "outputs": [
      {
       "metadata": {},
       "output_type": "pyout",
       "prompt_number": 50,
       "text": [
        "['http://www.wsj.com/public/page/archive-2010-01-01.html',\n",
        " 'http://www.wsj.com/public/page/archive-2010-01-02.html']"
       ]
      }
     ],
     "prompt_number": 50
    },
    {
     "cell_type": "code",
     "collapsed": false,
     "input": [
      "#Will have to split text before 'get'; "
     ],
     "language": "python",
     "metadata": {},
     "outputs": []
    },
    {
     "cell_type": "code",
     "collapsed": false,
     "input": [
      "topSplit = '<ul class=\"newsItem\">' #use <div id=\"archivedArticles\" class=\"headlineSummary newsBucket\"> to include date\n",
      "bottomSplit = '</ul>'\n",
      "\n",
      "for article in archive[:1]:\n",
      "    print r(article).text.split(topSplit)[1].split(bottomSplit)[0]"
     ],
     "language": "python",
     "metadata": {},
     "outputs": [
      {
       "output_type": "stream",
       "stream": "stdout",
       "text": [
        "\n",
        "        <li>\n",
        "          <h2><a href=\"http://www.wsj.com/articles/SB126228583130312131\">Abdulmutallab Was Radicalized After He Left U.K., Brown Says</a></h2>\n",
        "          <p>U.K. Prime Minister Gordon Brown said it is \"increasingly clear\" that accused airline bomber Umar Farouk Abdulmutallab linked up with al Qaeda after leaving the U.K. in 2008, damping speculation that Mr. Abdulmutallab was ...</p>\n",
        "        </li>\n",
        "        <li>\n",
        "          <h2><a href=\"http://www.wsj.com/articles/SB10001424052748703278604574624141224499648\">Showtime in Detroit</a></h2>\n",
        "          <p>Detroit in January isn't an exotic destination, with wind chills in the teens and snowplows scraping streets in their annual battle with winter. But more than 5,000 journalists, many from overseas, will flock there next week for the ...</p>\n",
        "        </li>\n",
        "        <li>\n",
        "          <h2><a href=\"http://www.wsj.com/articles/SB10001424052748703916304574632312919184046\">Covered Calls Strategy Proves Popular</a></h2>\n",
        "          <p>Even if the stock market goes sideways in 2010, a number of investors hope to profit through an options strategy known as covered calls. The strategy works like this: An investor buys a stock, but also sells a call. The call obligates the ...</p>\n",
        "        </li>\n",
        "        <li>\n",
        "          <h2><a href=\"http://www.wsj.com/articles/SB10001424052748704162104574630573932747260\">Crude Awakening: Gas Producers Shift Focus</a></h2>\n",
        "          <p>Exxon Mobil Corp.'s $31 billion purchase of XTO Energy Inc. is seen as a big endorsement of the future value of natural gas. But many gas producers aren't so optimistic.</p>\n",
        "        </li>\n",
        "        <li>\n",
        "          <h2><a href=\"http://www.wsj.com/articles/SB10001424052748704876104574632493767660078\">American Air Mishaps Spur Federal Review</a></h2>\n",
        "          <p>The Federal Aviation Administration on Friday said it is stepping up oversight of American Airlines in the wake of three botched landings by the carrier over an 11-day period.</p>\n",
        "        </li>\n",
        "        <li>\n",
        "          <h2><a href=\"http://www.wsj.com/articles/SB10001424052748704680804574620431817158244\">The True Causes of the Economic Meltdown of 2008</a></h2>\n",
        "          <p>Zachary Karabell rightly decries the development of a false thesis concerning the need for a \"rebalancing\" of global economic activity (\"The 'Global Imbalances' Myth,\" op-ed, Dec. 21). With respect to the ...</p>\n",
        "        </li>\n",
        "        <li>\n",
        "          <h2><a href=\"http://www.wsj.com/articles/SB10001424052748704888404574546310396459286\">The Radical Legacy of 1979</a></h2>\n",
        "          <p>If ever one year in recent times was a catalyst for change in the broader Middle East and Muslim world, it was 1979. One ray of bright light in that year of darkness was the signing of the historic Camp David peace treaty between Israel and ...</p>\n",
        "        </li>\n",
        "        <li>\n",
        "          <h2><a href=\"http://www.wsj.com/articles/SB126235768926612747\">Indian Exports Shake Off Slump</a></h2>\n",
        "          <p>NEW DELHI -- India's exports grew in November after a 13-month slump, but the gain had more to do with comparisons to weak numbers from a year earlier than a firm recovery in global demand.</p>\n",
        "        </li>\n",
        "        <li>\n",
        "          <h2><a href=\"http://www.wsj.com/articles/SB126223557749311545\">Bandwidth Auctions for 3G Mobile Services in February</a></h2>\n",
        "          <p>NEW DELHI \u2013India will hold bandwidth auctions for third generation, or 3G, mobile phone services in February, a senior official at the Department of Telecommunications said Thursday, underscoring the government's intent to raise cash ...</p>\n",
        "        </li>\n",
        "        <li>\n",
        "          <h2><a href=\"http://www.wsj.com/articles/SB126235708448912743\">Strong Sales for India's Vehicle Makers</a></h2>\n",
        "          <p>NEW DELHI -- Automakers in India on Friday reported higher sales for December as a pickup in the local economy spurred demand. Maruti Suzuki India Ltd., Mahindra & Mahindra Ltd., Hero Honda Motors Ltd., TVS Motor Co. and the local units ...</p>\n",
        "        </li>\n",
        "        <li>\n",
        "          <h2><a href=\"http://www.wsj.com/articles/SB126235171131012657\">Afghanistan Suicide Bomber May Have Been Helped by CIA Informant</a></h2>\n",
        "          <p>KABUL--The suicide bomber who killed eight Americans, including seven CIA officers, this week might have been able to get through multiple layers of security at the U.S. compound aided by an Afghan informant with the agency, a Western ...</p>\n",
        "        </li>\n",
        "        <li>\n",
        "          <h2><a href=\"http://www.wsj.com/articles/SB10001424052748703483604574631424119389070\">Scripps Pulls Channels from Cablevision</a></h2>\n",
        "          <p>Scripps Networks Interactive Inc. pulled its Food Network and HGTV channels off Cablevision Systems Corp. early Friday morning after the two companies were unable to reach an agreement in year-end negotiations over carriage fees.</p>\n",
        "        </li>\n",
        "        <li>\n",
        "          <h2><a href=\"http://www.wsj.com/articles/SB126232777175312661\">China Manufacturing Expands</a></h2>\n",
        "          <p>BEIJING -- China's Purchasing Managers Index rose again in December, the ten straight month of expansion in manufacturing activity. The index rose to 56.6 in December from 55.2 in November, the China Federation of Logistics and ...</p>\n",
        "        </li>\n",
        "        <li>\n",
        "          <h2><a href=\"http://www.wsj.com/articles/SB10001424052748703483604574631351144135812\">Kookmin President Won't Take KB Financial Job</a></h2>\n",
        "          <p>SEOUL -- Kang Chung-won, who was tentatively chosen to be the new chairman of KB Financial Group Inc., decided not to take the job, KB Financial said Thursday.</p>\n",
        "        </li>\n",
        "        <li>\n",
        "          <h2><a href=\"http://www.wsj.com/articles/SB10001424052748703483604574631151032380092\">Program Trading</a></h2>\n",
        "          <p>NEW YORK\u2014Program trading in the week ended Dec. 24, 2009, amounted to 25.1% of New York Stock Exchange average daily volume of 1.56 billion shares, or 392.4 million program shares traded per day.</p>\n",
        "        </li>\n",
        "        <li>\n",
        "          <h2><a href=\"http://www.wsj.com/articles/SB10001424052748703483604574630582324747154\">Fox, Time Warner Extend Talks in Cable Dispute</a></h2>\n",
        "          <p>NEW YORK -- Time Warner Cable Inc. and News Corp. have extended their contentious negotiations over carriage fees for the Fox Broadcasting network into the early morning hours of New Years Day on the east coast, averting any programming ...</p>\n",
        "        </li>\n",
        "        <li>\n",
        "          <h2><a href=\"http://www.wsj.com/articles/SB126230663054312435\">Scripps Networks Pulls Channels from Cablevision Systems</a></h2>\n",
        "          <p>Scripps Networks Interactive Inc. pulled its Food Network and HGTV channels off Cablevision Systems Corp. early Friday morning after the two companies were unable to reach an agreement in a year-end negotiations over carriage fees.</p>\n",
        "        </li>\n",
        "        <li>\n",
        "          <h2><a href=\"http://www.wsj.com/articles/SB126225941186711671\">Suicide Bombing in Afghanistan Devastates Critical Hub for CIA Activities</a></h2>\n",
        "          <p>WASHINGTON\u2014Wednesday's attack on a U.S. compound in Afghanistan devastated what has been a hub of counterterrorism and intelligence operations for the spy agency.</p>\n",
        "        </li>\n",
        "\n",
        "\n",
        "\n",
        "\n",
        "\n",
        "  \n"
       ]
      }
     ],
     "prompt_number": 68
    },
    {
     "cell_type": "code",
     "collapsed": false,
     "input": [
      "first_ten_days_headlines = [r(article).text.split(topSplit)[1].split(bottomSplit)[0] for article in archive[:10]]"
     ],
     "language": "python",
     "metadata": {},
     "outputs": [],
     "prompt_number": 63
    },
    {
     "cell_type": "code",
     "collapsed": false,
     "input": [],
     "language": "python",
     "metadata": {},
     "outputs": []
    }
   ],
   "metadata": {}
  }
 ]
}
