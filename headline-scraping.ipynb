{
 "metadata": {
  "name": "",
  "signature": "sha256:d6c603b22a130223921d9167173359001aad85b8c1a9964157de5042398e0de6"
 },
 "nbformat": 3,
 "nbformat_minor": 0,
 "worksheets": [
  {
   "cells": [
    {
     "cell_type": "markdown",
     "metadata": {},
     "source": [
      "###Potential Newspaper Archives:\n",
      "Wall Street Journal (http://betaweb.dowjones.com/api/#headlines)  \n",
      "The Washington Post (http://apiportal.washingtonpost.com/)  \n",
      "The New York Times (http://developer.nytimes.com/docs/read/article_search_api_v2)  \n",
      "USA Today (http://developer.usatoday.com/docs/read/USATODAY_Articles_Service)  "
     ]
    },
    {
     "cell_type": "markdown",
     "metadata": {},
     "source": [
      "###Network Sites:\n",
      "CNN http://www.cnn.com/services/rss/  \n",
      "AP (http://www.programmableweb.com/api/associated-press)"
     ]
    },
    {
     "cell_type": "code",
     "collapsed": false,
     "input": [
      "import requests"
     ],
     "language": "python",
     "metadata": {},
     "outputs": [],
     "prom
